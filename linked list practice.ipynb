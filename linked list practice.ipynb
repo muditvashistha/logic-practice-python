{
 "cells": [
  {
   "cell_type": "code",
   "execution_count": 3,
   "id": "ed258df2-ef88-4a1a-acc5-b6c33799778e",
   "metadata": {},
   "outputs": [],
   "source": [
    "#singly linked lists\n",
    "\n",
    "class SinglyNode:\n",
    "    def __init__(self,val,next=None):\n",
    "        self.val=val\n",
    "        self.next=next\n",
    "    def __str__(self):\n",
    "        return str(self.val)\n"
   ]
  },
  {
   "cell_type": "code",
   "execution_count": 4,
   "id": "9f0b1e3e-3c24-438f-895d-db5e9cb5fc39",
   "metadata": {},
   "outputs": [],
   "source": [
    "Head=SinglyNode(1)\n",
    "A=SinglyNode(2)\n",
    "B=SinglyNode(4)\n",
    "C=SinglyNode(5)\n",
    "D=SinglyNode(10)"
   ]
  },
  {
   "cell_type": "code",
   "execution_count": 5,
   "id": "226b9cd1-35e7-4b47-909e-1b748e49bdd1",
   "metadata": {},
   "outputs": [
    {
     "name": "stdout",
     "output_type": "stream",
     "text": [
      "1\n"
     ]
    }
   ],
   "source": [
    "Head.next=A\n",
    "A.next=B\n",
    "B.next=C\n",
    "\n",
    "\n",
    "print(Head)"
   ]
  },
  {
   "cell_type": "code",
   "execution_count": 6,
   "id": "73f2daef-6fd1-4389-a6cf-1dc86f6307ed",
   "metadata": {},
   "outputs": [
    {
     "name": "stdout",
     "output_type": "stream",
     "text": [
      "1 -> 2 -> 4 -> 5\n"
     ]
    }
   ],
   "source": [
    "def display(head):\n",
    "    curr=head\n",
    "    elements=[]\n",
    "    while curr:\n",
    "        elements.append(str(curr.val))\n",
    "        curr=curr.next\n",
    "    print(' -> '.join(elements))\n",
    "    \n",
    "display(Head)"
   ]
  },
  {
   "cell_type": "code",
   "execution_count": 7,
   "id": "55dbab0b-f092-4a06-8e47-ee1e10e3b19d",
   "metadata": {},
   "outputs": [],
   "source": [
    "def rotate_right_by_one(head):\n",
    "    # Edge cases: empty list or only one node\n",
    "    if head is None or head.next is None:\n",
    "        return head\n",
    "    \n",
    "    # Find the last node and keep track of the node before it\n",
    "    curr = head\n",
    "    prev = None\n",
    "    \n",
    "    # Traverse to the end of the list\n",
    "    while curr.next is not None:\n",
    "        prev = curr\n",
    "        curr = curr.next\n",
    "    \n",
    "    # Now curr is the last node and prev is the second-to-last node\n",
    "    \n",
    "    # Make the last node point to the original head\n",
    "    curr.next = head\n",
    "    \n",
    "    # Make the second-to-last node the end of the list\n",
    "    prev.next = None\n",
    "    \n",
    "    # Update the head to the last node\n",
    "    new_head = curr\n",
    "    \n",
    "    return new_head"
   ]
  },
  {
   "cell_type": "code",
   "execution_count": 8,
   "id": "e14de610-b972-4dbe-9179-13187c409ed7",
   "metadata": {},
   "outputs": [
    {
     "name": "stdout",
     "output_type": "stream",
     "text": [
      "5 -> 1 -> 2 -> 4\n"
     ]
    }
   ],
   "source": [
    "Head=rotate_right_by_one(Head)\n",
    "display(Head)"
   ]
  },
  {
   "cell_type": "code",
   "execution_count": 6,
   "id": "583d0a1b-d7ae-4873-811b-0728f49fc05d",
   "metadata": {},
   "outputs": [
    {
     "data": {
      "text/plain": [
       "True"
      ]
     },
     "execution_count": 6,
     "metadata": {},
     "output_type": "execute_result"
    }
   ],
   "source": [
    "#Searching nodes\n",
    "def search(head,val):\n",
    "    curr=head\n",
    "    while curr:\n",
    "        if val == curr.val:\n",
    "            return True\n",
    "        curr=curr.next\n",
    "    return False\n",
    "search(Head, 4)"
   ]
  },
  {
   "cell_type": "code",
   "execution_count": 24,
   "id": "a30c0517-4054-4cf9-896e-9fe70bf1d477",
   "metadata": {},
   "outputs": [
    {
     "data": {
      "text/plain": [
       "True"
      ]
     },
     "execution_count": 24,
     "metadata": {},
     "output_type": "execute_result"
    }
   ],
   "source": [
    "search(Head, 5)"
   ]
  },
  {
   "cell_type": "code",
   "execution_count": null,
   "id": "3490ffd3-5bdf-471f-ab31-a05578b5e8f6",
   "metadata": {},
   "outputs": [],
   "source": []
  }
 ],
 "metadata": {
  "kernelspec": {
   "display_name": "Python 3 (ipykernel)",
   "language": "python",
   "name": "python3"
  },
  "language_info": {
   "codemirror_mode": {
    "name": "ipython",
    "version": 3
   },
   "file_extension": ".py",
   "mimetype": "text/x-python",
   "name": "python",
   "nbconvert_exporter": "python",
   "pygments_lexer": "ipython3",
   "version": "3.11.5"
  }
 },
 "nbformat": 4,
 "nbformat_minor": 5
}
